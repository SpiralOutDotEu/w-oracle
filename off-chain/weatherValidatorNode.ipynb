{
 "cells": [
  {
   "cell_type": "markdown",
   "metadata": {},
   "source": [
    "Add bacalhau"
   ]
  },
  {
   "cell_type": "code",
   "execution_count": 1,
   "metadata": {},
   "outputs": [
    {
     "name": "stdout",
     "output_type": "stream",
     "text": [
      "env: PATH=./:/bin:/home/jumaru/.npm-global/bin:/home/jumaru/.local/bin:/home/jumaru/.npm-global/bin:/home/jumaru/.cargo/bin:/home/jumaru/.local/bin:/usr/local/sbin:/usr/local/bin:/usr/sbin:/usr/bin:/sbin:/bin:/usr/games:/usr/local/games:/snap/bin:/usr/local/go/bin:/usr/local/go/bin:/home/jumaru/go/bin:/home/jumaru/.foundry/bin:/home/jumaru/crypt/akash/akash-new/bin:/usr/local/go/bin\n"
     ]
    }
   ],
   "source": [
    "!command -v bacalhau >/dev/null 2>&1 || (export BACALHAU_INSTALL_DIR=.; curl -sL https://get.bacalhau.org/install.sh | bash)\n",
    "path=!echo $PATH\n",
    "%env PATH=./:{path[-1]}"
   ]
  },
  {
   "cell_type": "markdown",
   "metadata": {},
   "source": [
    "# Oracle runs validator\n",
    "Oracle runs the validator defined in contract with it's own data pinned to ipfs"
   ]
  },
  {
   "cell_type": "code",
   "execution_count": 22,
   "metadata": {},
   "outputs": [
    {
     "name": "stdout",
     "output_type": "stream",
     "text": [
      "Job successfully submitted. Job ID: f591137f-7789-4871-b427-f4c1aa1a5b05\n",
      "Checking job status... (Enter Ctrl+C to exit at any time, your job will continue running):\n",
      "\n",
      "\t       Creating job for submission ... done ✅\n",
      "\t       Finding node(s) for the job ... done ✅\n",
      "\t             Node accepted the job ... done ✅\n",
      "\t   Job finished, verifying results ... done ✅\n",
      "\t      Results accepted, publishing ... Job Results By Node:\n",
      "\n",
      "To download the results, execute:\n",
      "  bacalhau get f591137f-7789-4871-b427-f4c1aa1a5b05\n",
      "\n",
      "To get more details about the run, execute:\n",
      "  bacalhau describe f591137f-7789-4871-b427-f4c1aa1a5b05\n"
     ]
    }
   ],
   "source": [
    "!bacalhau docker run \\\n",
    "    --wait docker.io/spiralout/weather-validator:0.2 \\\n",
    "    -- python3 weather_validator.py \\\n",
    "        ipfs://bafkreifibaw5yjkmwiyi2nus7vphmrxxqw3xrp7utt7r3ipddideilqtti"
   ]
  },
  {
   "cell_type": "markdown",
   "metadata": {},
   "source": [
    "# Validator node checks submission\n",
    "Validator node listenes for submission events and checks in bacalhau that indeed the submission is correct"
   ]
  },
  {
   "cell_type": "code",
   "execution_count": 23,
   "metadata": {},
   "outputs": [
    {
     "name": "stdout",
     "output_type": "stream",
     "text": [
      "APIVersion: V1beta1\n",
      "Metadata:\n",
      "  ClientID: 3680729f71022a97d41d436ea61c2bfb0db148d61457a84846a227494f326a1d\n",
      "  CreatedAt: \"2022-12-21T09:30:53.870912437Z\"\n",
      "  ID: f591137f-7789-4871-b427-f4c1aa1a5b05\n",
      "Spec:\n",
      "  Deal:\n",
      "    Concurrency: 1\n",
      "  Docker:\n",
      "    Entrypoint:\n",
      "    - python3\n",
      "    - weather_validator.py\n",
      "    - ipfs://bafkreifibaw5yjkmwiyi2nus7vphmrxxqw3xrp7utt7r3ipddideilqtti\n",
      "    Image: docker.io/spiralout/weather-validator:0.2\n",
      "  Engine: Docker\n",
      "  ExecutionPlan:\n",
      "    ShardsTotal: 1\n",
      "  Language:\n",
      "    JobContext: {}\n",
      "  Publisher: Estuary\n",
      "  Resources:\n",
      "    GPU: \"\"\n",
      "  Sharding:\n",
      "    BatchSize: 1\n",
      "    GlobPatternBasePath: /inputs\n",
      "  Timeout: 1800\n",
      "  Verifier: Noop\n",
      "  Wasm: {}\n",
      "  outputs:\n",
      "  - Name: outputs\n",
      "    StorageSource: IPFS\n",
      "    path: /outputs\n",
      "Status:\n",
      "  JobState:\n",
      "    Nodes:\n",
      "      QmVAb7r2pKWCuyLpYWoZr9syhhFnTWeFaByHdb8PkkhLQG:\n",
      "        Shards:\n",
      "          \"0\":\n",
      "            NodeId: QmVAb7r2pKWCuyLpYWoZr9syhhFnTWeFaByHdb8PkkhLQG\n",
      "            PublishedResults: {}\n",
      "            State: Cancelled\n",
      "            VerificationResult: {}\n",
      "      QmXMzb3GQRMyUyVvUB53nfkZ1sURTVxuR8BPowey7a3WKk:\n",
      "        Shards:\n",
      "          \"0\":\n",
      "            NodeId: QmXMzb3GQRMyUyVvUB53nfkZ1sURTVxuR8BPowey7a3WKk\n",
      "            PublishedResults:\n",
      "              CID: QmY48hU7zFjQbgbbA94wo1Rp63SSSD6WJMqrfZpwAKawH3\n",
      "              Name: job-f591137f-7789-4871-b427-f4c1aa1a5b05-shard-0-host-QmXMzb3GQRMyUyVvUB53nfkZ1sURTVxuR8BPowey7a3WKk\n",
      "              StorageSource: IPFS\n",
      "            RunOutput:\n",
      "              exitCode: 0\n",
      "              runnerError: \"\"\n",
      "              stderr: \"\"\n",
      "              stderrtruncated: false\n",
      "              stdout: |\n",
      "                Result:  {\"result\": 9, \"hash\": \"0x6d50a900d0b383877efda82f334dc68e061e7ca6162eaf31fbd4a283e83f6ad7\"}\n",
      "              stdouttruncated: false\n",
      "            State: Completed\n",
      "            Status: 'Got results proposal of length: 0'\n",
      "            VerificationResult:\n",
      "              Complete: true\n",
      "              Result: true\n",
      "      QmXaXu9N5GNetatsvwnTfQqNtSeKAD6uCmarbh3LMRYAcF:\n",
      "        Shards:\n",
      "          \"0\":\n",
      "            NodeId: QmXaXu9N5GNetatsvwnTfQqNtSeKAD6uCmarbh3LMRYAcF\n",
      "            PublishedResults: {}\n",
      "            State: Cancelled\n",
      "            VerificationResult: {}\n",
      "      QmYgxZiySj3MRkwLSL4X2MF5F9f2PMhAE3LV49XkfNL1o3:\n",
      "        Shards:\n",
      "          \"0\":\n",
      "            NodeId: QmYgxZiySj3MRkwLSL4X2MF5F9f2PMhAE3LV49XkfNL1o3\n",
      "            PublishedResults: {}\n",
      "            State: Cancelled\n",
      "            VerificationResult: {}\n",
      "      QmdZQ7ZbhnvWY1J12XYKGHApJ6aufKyLNSvf8jZBrBaAVL:\n",
      "        Shards:\n",
      "          \"0\":\n",
      "            NodeId: QmdZQ7ZbhnvWY1J12XYKGHApJ6aufKyLNSvf8jZBrBaAVL\n",
      "            PublishedResults: {}\n",
      "            State: Cancelled\n",
      "            VerificationResult: {}\n",
      "  Requester:\n",
      "    RequesterNodeID: QmYgxZiySj3MRkwLSL4X2MF5F9f2PMhAE3LV49XkfNL1o3\n",
      "    RequesterPublicKey: CAASpgIwggEiMA0GCSqGSIb3DQEBAQUAA4IBDwAwggEKAoIBAQDF5pYaTdt4UwzslPRDr8XFXv1clttGGIWENlnECLVqswrQVp5xrMsI/57MrJUsMADsz6a/cip9LOxiym3bZVIeZ5WmbrFp48F0Wb7RCELAsUcl/zx4FHCK+A2FKqmuhpY9NyVNGupIDBUCPvCWsDb87Ur//a9BdCOETuab4577e3vFCa3fE+9jn5Fuhoa0m5Z7GfuZtU0W2FX6nc4VIfseMWrWpHD+Bqe/kXs+8RFBVW2AYyzO8lCcHtRC4Lb1Ml1V5hcoAN1pe5yfVuPlT9qyAgCnH3nIIWtvEYz8BnSDgXXTHdT+N+6lrm9oMglNh7TpT6ZbmpioIbJalelAyhG3AgMBAAE=\n"
     ]
    }
   ],
   "source": [
    "!bacalhau describe f591137f-7789-4871-b427-f4c1aa1a5b05"
   ]
  },
  {
   "cell_type": "code",
   "execution_count": null,
   "metadata": {},
   "outputs": [],
   "source": []
  }
 ],
 "metadata": {
  "kernelspec": {
   "display_name": "Python 3.10.6 64-bit",
   "language": "python",
   "name": "python3"
  },
  "language_info": {
   "codemirror_mode": {
    "name": "ipython",
    "version": 3
   },
   "file_extension": ".py",
   "mimetype": "text/x-python",
   "name": "python",
   "nbconvert_exporter": "python",
   "pygments_lexer": "ipython3",
   "version": "3.10.6"
  },
  "orig_nbformat": 4,
  "vscode": {
   "interpreter": {
    "hash": "916dbcbb3f70747c44a77c7bcd40155683ae19c65e1c03b4aa3499c5328201f1"
   }
  }
 },
 "nbformat": 4,
 "nbformat_minor": 2
}
